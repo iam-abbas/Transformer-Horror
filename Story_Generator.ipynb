{
  "nbformat": 4,
  "nbformat_minor": 0,
  "metadata": {
    "colab": {
      "name": "Story Generator.ipynb",
      "provenance": [],
      "machine_shape": "hm",
      "authorship_tag": "ABX9TyMSAnX+HoRcJIYd6tNE9bsz",
      "include_colab_link": true
    },
    "kernelspec": {
      "name": "python3",
      "display_name": "Python 3"
    },
    "accelerator": "GPU",
    "widgets": {
      "application/vnd.jupyter.widget-state+json": {
        "27c2c172e9774fef8b6ba75685a2e001": {
          "model_module": "@jupyter-widgets/controls",
          "model_name": "HBoxModel",
          "state": {
            "_view_name": "HBoxView",
            "_dom_classes": [],
            "_model_name": "HBoxModel",
            "_view_module": "@jupyter-widgets/controls",
            "_model_module_version": "1.5.0",
            "_view_count": null,
            "_view_module_version": "1.5.0",
            "box_style": "",
            "layout": "IPY_MODEL_17604a50d48f4c2c811532d0eb8af11e",
            "_model_module": "@jupyter-widgets/controls",
            "children": [
              "IPY_MODEL_49da5a0e5fe64f6e8d1cc04089a9c0c3",
              "IPY_MODEL_490514ae70fd4c49af77efc7340d1f56"
            ]
          }
        },
        "17604a50d48f4c2c811532d0eb8af11e": {
          "model_module": "@jupyter-widgets/base",
          "model_name": "LayoutModel",
          "state": {
            "_view_name": "LayoutView",
            "grid_template_rows": null,
            "right": null,
            "justify_content": null,
            "_view_module": "@jupyter-widgets/base",
            "overflow": null,
            "_model_module_version": "1.2.0",
            "_view_count": null,
            "flex_flow": null,
            "width": null,
            "min_width": null,
            "border": null,
            "align_items": null,
            "bottom": null,
            "_model_module": "@jupyter-widgets/base",
            "top": null,
            "grid_column": null,
            "overflow_y": null,
            "overflow_x": null,
            "grid_auto_flow": null,
            "grid_area": null,
            "grid_template_columns": null,
            "flex": null,
            "_model_name": "LayoutModel",
            "justify_items": null,
            "grid_row": null,
            "max_height": null,
            "align_content": null,
            "visibility": null,
            "align_self": null,
            "height": null,
            "min_height": null,
            "padding": null,
            "grid_auto_rows": null,
            "grid_gap": null,
            "max_width": null,
            "order": null,
            "_view_module_version": "1.2.0",
            "grid_template_areas": null,
            "object_position": null,
            "object_fit": null,
            "grid_auto_columns": null,
            "margin": null,
            "display": null,
            "left": null
          }
        },
        "49da5a0e5fe64f6e8d1cc04089a9c0c3": {
          "model_module": "@jupyter-widgets/controls",
          "model_name": "FloatProgressModel",
          "state": {
            "_view_name": "ProgressView",
            "style": "IPY_MODEL_8a5b326b1d024831ae24499c2914f1f2",
            "_dom_classes": [],
            "description": "Downloading: 100%",
            "_model_name": "FloatProgressModel",
            "bar_style": "success",
            "max": 1042301,
            "_view_module": "@jupyter-widgets/controls",
            "_model_module_version": "1.5.0",
            "value": 1042301,
            "_view_count": null,
            "_view_module_version": "1.5.0",
            "orientation": "horizontal",
            "min": 0,
            "description_tooltip": null,
            "_model_module": "@jupyter-widgets/controls",
            "layout": "IPY_MODEL_ee05262ea1de45b4b32c9d070ff1dcd6"
          }
        },
        "490514ae70fd4c49af77efc7340d1f56": {
          "model_module": "@jupyter-widgets/controls",
          "model_name": "HTMLModel",
          "state": {
            "_view_name": "HTMLView",
            "style": "IPY_MODEL_181e8946aee549c79660c6f4ea8ba81e",
            "_dom_classes": [],
            "description": "",
            "_model_name": "HTMLModel",
            "placeholder": "​",
            "_view_module": "@jupyter-widgets/controls",
            "_model_module_version": "1.5.0",
            "value": " 1.04M/1.04M [00:01&lt;00:00, 680kB/s]",
            "_view_count": null,
            "_view_module_version": "1.5.0",
            "description_tooltip": null,
            "_model_module": "@jupyter-widgets/controls",
            "layout": "IPY_MODEL_c990cdc3632542b78059be64cf51ccba"
          }
        },
        "8a5b326b1d024831ae24499c2914f1f2": {
          "model_module": "@jupyter-widgets/controls",
          "model_name": "ProgressStyleModel",
          "state": {
            "_view_name": "StyleView",
            "_model_name": "ProgressStyleModel",
            "description_width": "initial",
            "_view_module": "@jupyter-widgets/base",
            "_model_module_version": "1.5.0",
            "_view_count": null,
            "_view_module_version": "1.2.0",
            "bar_color": null,
            "_model_module": "@jupyter-widgets/controls"
          }
        },
        "ee05262ea1de45b4b32c9d070ff1dcd6": {
          "model_module": "@jupyter-widgets/base",
          "model_name": "LayoutModel",
          "state": {
            "_view_name": "LayoutView",
            "grid_template_rows": null,
            "right": null,
            "justify_content": null,
            "_view_module": "@jupyter-widgets/base",
            "overflow": null,
            "_model_module_version": "1.2.0",
            "_view_count": null,
            "flex_flow": null,
            "width": null,
            "min_width": null,
            "border": null,
            "align_items": null,
            "bottom": null,
            "_model_module": "@jupyter-widgets/base",
            "top": null,
            "grid_column": null,
            "overflow_y": null,
            "overflow_x": null,
            "grid_auto_flow": null,
            "grid_area": null,
            "grid_template_columns": null,
            "flex": null,
            "_model_name": "LayoutModel",
            "justify_items": null,
            "grid_row": null,
            "max_height": null,
            "align_content": null,
            "visibility": null,
            "align_self": null,
            "height": null,
            "min_height": null,
            "padding": null,
            "grid_auto_rows": null,
            "grid_gap": null,
            "max_width": null,
            "order": null,
            "_view_module_version": "1.2.0",
            "grid_template_areas": null,
            "object_position": null,
            "object_fit": null,
            "grid_auto_columns": null,
            "margin": null,
            "display": null,
            "left": null
          }
        },
        "181e8946aee549c79660c6f4ea8ba81e": {
          "model_module": "@jupyter-widgets/controls",
          "model_name": "DescriptionStyleModel",
          "state": {
            "_view_name": "StyleView",
            "_model_name": "DescriptionStyleModel",
            "description_width": "",
            "_view_module": "@jupyter-widgets/base",
            "_model_module_version": "1.5.0",
            "_view_count": null,
            "_view_module_version": "1.2.0",
            "_model_module": "@jupyter-widgets/controls"
          }
        },
        "c990cdc3632542b78059be64cf51ccba": {
          "model_module": "@jupyter-widgets/base",
          "model_name": "LayoutModel",
          "state": {
            "_view_name": "LayoutView",
            "grid_template_rows": null,
            "right": null,
            "justify_content": null,
            "_view_module": "@jupyter-widgets/base",
            "overflow": null,
            "_model_module_version": "1.2.0",
            "_view_count": null,
            "flex_flow": null,
            "width": null,
            "min_width": null,
            "border": null,
            "align_items": null,
            "bottom": null,
            "_model_module": "@jupyter-widgets/base",
            "top": null,
            "grid_column": null,
            "overflow_y": null,
            "overflow_x": null,
            "grid_auto_flow": null,
            "grid_area": null,
            "grid_template_columns": null,
            "flex": null,
            "_model_name": "LayoutModel",
            "justify_items": null,
            "grid_row": null,
            "max_height": null,
            "align_content": null,
            "visibility": null,
            "align_self": null,
            "height": null,
            "min_height": null,
            "padding": null,
            "grid_auto_rows": null,
            "grid_gap": null,
            "max_width": null,
            "order": null,
            "_view_module_version": "1.2.0",
            "grid_template_areas": null,
            "object_position": null,
            "object_fit": null,
            "grid_auto_columns": null,
            "margin": null,
            "display": null,
            "left": null
          }
        },
        "ee97a6d68b3a477f9d4df1170aeb3b9e": {
          "model_module": "@jupyter-widgets/controls",
          "model_name": "HBoxModel",
          "state": {
            "_view_name": "HBoxView",
            "_dom_classes": [],
            "_model_name": "HBoxModel",
            "_view_module": "@jupyter-widgets/controls",
            "_model_module_version": "1.5.0",
            "_view_count": null,
            "_view_module_version": "1.5.0",
            "box_style": "",
            "layout": "IPY_MODEL_e74ef2ee5ef54b89ba413bcb18dd42a4",
            "_model_module": "@jupyter-widgets/controls",
            "children": [
              "IPY_MODEL_906b4f764ba243b983f0f685c2d750b0",
              "IPY_MODEL_694b7bfdb8fa457db86b7e0470c2e98b"
            ]
          }
        },
        "e74ef2ee5ef54b89ba413bcb18dd42a4": {
          "model_module": "@jupyter-widgets/base",
          "model_name": "LayoutModel",
          "state": {
            "_view_name": "LayoutView",
            "grid_template_rows": null,
            "right": null,
            "justify_content": null,
            "_view_module": "@jupyter-widgets/base",
            "overflow": null,
            "_model_module_version": "1.2.0",
            "_view_count": null,
            "flex_flow": null,
            "width": null,
            "min_width": null,
            "border": null,
            "align_items": null,
            "bottom": null,
            "_model_module": "@jupyter-widgets/base",
            "top": null,
            "grid_column": null,
            "overflow_y": null,
            "overflow_x": null,
            "grid_auto_flow": null,
            "grid_area": null,
            "grid_template_columns": null,
            "flex": null,
            "_model_name": "LayoutModel",
            "justify_items": null,
            "grid_row": null,
            "max_height": null,
            "align_content": null,
            "visibility": null,
            "align_self": null,
            "height": null,
            "min_height": null,
            "padding": null,
            "grid_auto_rows": null,
            "grid_gap": null,
            "max_width": null,
            "order": null,
            "_view_module_version": "1.2.0",
            "grid_template_areas": null,
            "object_position": null,
            "object_fit": null,
            "grid_auto_columns": null,
            "margin": null,
            "display": null,
            "left": null
          }
        },
        "906b4f764ba243b983f0f685c2d750b0": {
          "model_module": "@jupyter-widgets/controls",
          "model_name": "FloatProgressModel",
          "state": {
            "_view_name": "ProgressView",
            "style": "IPY_MODEL_4164d009fd48459f82690477b0a89f3c",
            "_dom_classes": [],
            "description": "Downloading: 100%",
            "_model_name": "FloatProgressModel",
            "bar_style": "success",
            "max": 456318,
            "_view_module": "@jupyter-widgets/controls",
            "_model_module_version": "1.5.0",
            "value": 456318,
            "_view_count": null,
            "_view_module_version": "1.5.0",
            "orientation": "horizontal",
            "min": 0,
            "description_tooltip": null,
            "_model_module": "@jupyter-widgets/controls",
            "layout": "IPY_MODEL_6422af5e22894bfbb387b2911cd27c74"
          }
        },
        "694b7bfdb8fa457db86b7e0470c2e98b": {
          "model_module": "@jupyter-widgets/controls",
          "model_name": "HTMLModel",
          "state": {
            "_view_name": "HTMLView",
            "style": "IPY_MODEL_b1e3ed4cdb7c4a9ba6863874a8fc4c07",
            "_dom_classes": [],
            "description": "",
            "_model_name": "HTMLModel",
            "placeholder": "​",
            "_view_module": "@jupyter-widgets/controls",
            "_model_module_version": "1.5.0",
            "value": " 456k/456k [00:00&lt;00:00, 977kB/s]",
            "_view_count": null,
            "_view_module_version": "1.5.0",
            "description_tooltip": null,
            "_model_module": "@jupyter-widgets/controls",
            "layout": "IPY_MODEL_59e5fe6664554160a3fc1994446fdd5e"
          }
        },
        "4164d009fd48459f82690477b0a89f3c": {
          "model_module": "@jupyter-widgets/controls",
          "model_name": "ProgressStyleModel",
          "state": {
            "_view_name": "StyleView",
            "_model_name": "ProgressStyleModel",
            "description_width": "initial",
            "_view_module": "@jupyter-widgets/base",
            "_model_module_version": "1.5.0",
            "_view_count": null,
            "_view_module_version": "1.2.0",
            "bar_color": null,
            "_model_module": "@jupyter-widgets/controls"
          }
        },
        "6422af5e22894bfbb387b2911cd27c74": {
          "model_module": "@jupyter-widgets/base",
          "model_name": "LayoutModel",
          "state": {
            "_view_name": "LayoutView",
            "grid_template_rows": null,
            "right": null,
            "justify_content": null,
            "_view_module": "@jupyter-widgets/base",
            "overflow": null,
            "_model_module_version": "1.2.0",
            "_view_count": null,
            "flex_flow": null,
            "width": null,
            "min_width": null,
            "border": null,
            "align_items": null,
            "bottom": null,
            "_model_module": "@jupyter-widgets/base",
            "top": null,
            "grid_column": null,
            "overflow_y": null,
            "overflow_x": null,
            "grid_auto_flow": null,
            "grid_area": null,
            "grid_template_columns": null,
            "flex": null,
            "_model_name": "LayoutModel",
            "justify_items": null,
            "grid_row": null,
            "max_height": null,
            "align_content": null,
            "visibility": null,
            "align_self": null,
            "height": null,
            "min_height": null,
            "padding": null,
            "grid_auto_rows": null,
            "grid_gap": null,
            "max_width": null,
            "order": null,
            "_view_module_version": "1.2.0",
            "grid_template_areas": null,
            "object_position": null,
            "object_fit": null,
            "grid_auto_columns": null,
            "margin": null,
            "display": null,
            "left": null
          }
        },
        "b1e3ed4cdb7c4a9ba6863874a8fc4c07": {
          "model_module": "@jupyter-widgets/controls",
          "model_name": "DescriptionStyleModel",
          "state": {
            "_view_name": "StyleView",
            "_model_name": "DescriptionStyleModel",
            "description_width": "",
            "_view_module": "@jupyter-widgets/base",
            "_model_module_version": "1.5.0",
            "_view_count": null,
            "_view_module_version": "1.2.0",
            "_model_module": "@jupyter-widgets/controls"
          }
        },
        "59e5fe6664554160a3fc1994446fdd5e": {
          "model_module": "@jupyter-widgets/base",
          "model_name": "LayoutModel",
          "state": {
            "_view_name": "LayoutView",
            "grid_template_rows": null,
            "right": null,
            "justify_content": null,
            "_view_module": "@jupyter-widgets/base",
            "overflow": null,
            "_model_module_version": "1.2.0",
            "_view_count": null,
            "flex_flow": null,
            "width": null,
            "min_width": null,
            "border": null,
            "align_items": null,
            "bottom": null,
            "_model_module": "@jupyter-widgets/base",
            "top": null,
            "grid_column": null,
            "overflow_y": null,
            "overflow_x": null,
            "grid_auto_flow": null,
            "grid_area": null,
            "grid_template_columns": null,
            "flex": null,
            "_model_name": "LayoutModel",
            "justify_items": null,
            "grid_row": null,
            "max_height": null,
            "align_content": null,
            "visibility": null,
            "align_self": null,
            "height": null,
            "min_height": null,
            "padding": null,
            "grid_auto_rows": null,
            "grid_gap": null,
            "max_width": null,
            "order": null,
            "_view_module_version": "1.2.0",
            "grid_template_areas": null,
            "object_position": null,
            "object_fit": null,
            "grid_auto_columns": null,
            "margin": null,
            "display": null,
            "left": null
          }
        },
        "59999b8223ca476fb3a3934f70a7d7fe": {
          "model_module": "@jupyter-widgets/controls",
          "model_name": "HBoxModel",
          "state": {
            "_view_name": "HBoxView",
            "_dom_classes": [],
            "_model_name": "HBoxModel",
            "_view_module": "@jupyter-widgets/controls",
            "_model_module_version": "1.5.0",
            "_view_count": null,
            "_view_module_version": "1.5.0",
            "box_style": "",
            "layout": "IPY_MODEL_a0370f8b9ba84f9c8e9b3a5ee4224006",
            "_model_module": "@jupyter-widgets/controls",
            "children": [
              "IPY_MODEL_762d2bc732fc402fb05cb3bb0c76cf30",
              "IPY_MODEL_8c8ae804569b45af847c3345497beeff"
            ]
          }
        },
        "a0370f8b9ba84f9c8e9b3a5ee4224006": {
          "model_module": "@jupyter-widgets/base",
          "model_name": "LayoutModel",
          "state": {
            "_view_name": "LayoutView",
            "grid_template_rows": null,
            "right": null,
            "justify_content": null,
            "_view_module": "@jupyter-widgets/base",
            "overflow": null,
            "_model_module_version": "1.2.0",
            "_view_count": null,
            "flex_flow": null,
            "width": null,
            "min_width": null,
            "border": null,
            "align_items": null,
            "bottom": null,
            "_model_module": "@jupyter-widgets/base",
            "top": null,
            "grid_column": null,
            "overflow_y": null,
            "overflow_x": null,
            "grid_auto_flow": null,
            "grid_area": null,
            "grid_template_columns": null,
            "flex": null,
            "_model_name": "LayoutModel",
            "justify_items": null,
            "grid_row": null,
            "max_height": null,
            "align_content": null,
            "visibility": null,
            "align_self": null,
            "height": null,
            "min_height": null,
            "padding": null,
            "grid_auto_rows": null,
            "grid_gap": null,
            "max_width": null,
            "order": null,
            "_view_module_version": "1.2.0",
            "grid_template_areas": null,
            "object_position": null,
            "object_fit": null,
            "grid_auto_columns": null,
            "margin": null,
            "display": null,
            "left": null
          }
        },
        "762d2bc732fc402fb05cb3bb0c76cf30": {
          "model_module": "@jupyter-widgets/controls",
          "model_name": "FloatProgressModel",
          "state": {
            "_view_name": "ProgressView",
            "style": "IPY_MODEL_c343eef11c6c4e988c4929f90db485d6",
            "_dom_classes": [],
            "description": "Downloading: 100%",
            "_model_name": "FloatProgressModel",
            "bar_style": "success",
            "max": 764,
            "_view_module": "@jupyter-widgets/controls",
            "_model_module_version": "1.5.0",
            "value": 764,
            "_view_count": null,
            "_view_module_version": "1.5.0",
            "orientation": "horizontal",
            "min": 0,
            "description_tooltip": null,
            "_model_module": "@jupyter-widgets/controls",
            "layout": "IPY_MODEL_cd3eb6c0290945a98529a5dff0d2ff1d"
          }
        },
        "8c8ae804569b45af847c3345497beeff": {
          "model_module": "@jupyter-widgets/controls",
          "model_name": "HTMLModel",
          "state": {
            "_view_name": "HTMLView",
            "style": "IPY_MODEL_fcc6f711a842453f9891fdcdfd9ac971",
            "_dom_classes": [],
            "description": "",
            "_model_name": "HTMLModel",
            "placeholder": "​",
            "_view_module": "@jupyter-widgets/controls",
            "_model_module_version": "1.5.0",
            "value": " 764/764 [01:17&lt;00:00, 9.88B/s]",
            "_view_count": null,
            "_view_module_version": "1.5.0",
            "description_tooltip": null,
            "_model_module": "@jupyter-widgets/controls",
            "layout": "IPY_MODEL_73dd89afc2584b1cacf84ccc4c1156f1"
          }
        },
        "c343eef11c6c4e988c4929f90db485d6": {
          "model_module": "@jupyter-widgets/controls",
          "model_name": "ProgressStyleModel",
          "state": {
            "_view_name": "StyleView",
            "_model_name": "ProgressStyleModel",
            "description_width": "initial",
            "_view_module": "@jupyter-widgets/base",
            "_model_module_version": "1.5.0",
            "_view_count": null,
            "_view_module_version": "1.2.0",
            "bar_color": null,
            "_model_module": "@jupyter-widgets/controls"
          }
        },
        "cd3eb6c0290945a98529a5dff0d2ff1d": {
          "model_module": "@jupyter-widgets/base",
          "model_name": "LayoutModel",
          "state": {
            "_view_name": "LayoutView",
            "grid_template_rows": null,
            "right": null,
            "justify_content": null,
            "_view_module": "@jupyter-widgets/base",
            "overflow": null,
            "_model_module_version": "1.2.0",
            "_view_count": null,
            "flex_flow": null,
            "width": null,
            "min_width": null,
            "border": null,
            "align_items": null,
            "bottom": null,
            "_model_module": "@jupyter-widgets/base",
            "top": null,
            "grid_column": null,
            "overflow_y": null,
            "overflow_x": null,
            "grid_auto_flow": null,
            "grid_area": null,
            "grid_template_columns": null,
            "flex": null,
            "_model_name": "LayoutModel",
            "justify_items": null,
            "grid_row": null,
            "max_height": null,
            "align_content": null,
            "visibility": null,
            "align_self": null,
            "height": null,
            "min_height": null,
            "padding": null,
            "grid_auto_rows": null,
            "grid_gap": null,
            "max_width": null,
            "order": null,
            "_view_module_version": "1.2.0",
            "grid_template_areas": null,
            "object_position": null,
            "object_fit": null,
            "grid_auto_columns": null,
            "margin": null,
            "display": null,
            "left": null
          }
        },
        "fcc6f711a842453f9891fdcdfd9ac971": {
          "model_module": "@jupyter-widgets/controls",
          "model_name": "DescriptionStyleModel",
          "state": {
            "_view_name": "StyleView",
            "_model_name": "DescriptionStyleModel",
            "description_width": "",
            "_view_module": "@jupyter-widgets/base",
            "_model_module_version": "1.5.0",
            "_view_count": null,
            "_view_module_version": "1.2.0",
            "_model_module": "@jupyter-widgets/controls"
          }
        },
        "73dd89afc2584b1cacf84ccc4c1156f1": {
          "model_module": "@jupyter-widgets/base",
          "model_name": "LayoutModel",
          "state": {
            "_view_name": "LayoutView",
            "grid_template_rows": null,
            "right": null,
            "justify_content": null,
            "_view_module": "@jupyter-widgets/base",
            "overflow": null,
            "_model_module_version": "1.2.0",
            "_view_count": null,
            "flex_flow": null,
            "width": null,
            "min_width": null,
            "border": null,
            "align_items": null,
            "bottom": null,
            "_model_module": "@jupyter-widgets/base",
            "top": null,
            "grid_column": null,
            "overflow_y": null,
            "overflow_x": null,
            "grid_auto_flow": null,
            "grid_area": null,
            "grid_template_columns": null,
            "flex": null,
            "_model_name": "LayoutModel",
            "justify_items": null,
            "grid_row": null,
            "max_height": null,
            "align_content": null,
            "visibility": null,
            "align_self": null,
            "height": null,
            "min_height": null,
            "padding": null,
            "grid_auto_rows": null,
            "grid_gap": null,
            "max_width": null,
            "order": null,
            "_view_module_version": "1.2.0",
            "grid_template_areas": null,
            "object_position": null,
            "object_fit": null,
            "grid_auto_columns": null,
            "margin": null,
            "display": null,
            "left": null
          }
        },
        "0ac1715f46734731955b263041abc69a": {
          "model_module": "@jupyter-widgets/controls",
          "model_name": "HBoxModel",
          "state": {
            "_view_name": "HBoxView",
            "_dom_classes": [],
            "_model_name": "HBoxModel",
            "_view_module": "@jupyter-widgets/controls",
            "_model_module_version": "1.5.0",
            "_view_count": null,
            "_view_module_version": "1.5.0",
            "box_style": "",
            "layout": "IPY_MODEL_203127b753fb4ad99ecd8ac663703c32",
            "_model_module": "@jupyter-widgets/controls",
            "children": [
              "IPY_MODEL_ea26b74ac32348eaa1b3de1c938f67e4",
              "IPY_MODEL_3686b64b7f0741d7ad3a08b9535acc91"
            ]
          }
        },
        "203127b753fb4ad99ecd8ac663703c32": {
          "model_module": "@jupyter-widgets/base",
          "model_name": "LayoutModel",
          "state": {
            "_view_name": "LayoutView",
            "grid_template_rows": null,
            "right": null,
            "justify_content": null,
            "_view_module": "@jupyter-widgets/base",
            "overflow": null,
            "_model_module_version": "1.2.0",
            "_view_count": null,
            "flex_flow": null,
            "width": null,
            "min_width": null,
            "border": null,
            "align_items": null,
            "bottom": null,
            "_model_module": "@jupyter-widgets/base",
            "top": null,
            "grid_column": null,
            "overflow_y": null,
            "overflow_x": null,
            "grid_auto_flow": null,
            "grid_area": null,
            "grid_template_columns": null,
            "flex": null,
            "_model_name": "LayoutModel",
            "justify_items": null,
            "grid_row": null,
            "max_height": null,
            "align_content": null,
            "visibility": null,
            "align_self": null,
            "height": null,
            "min_height": null,
            "padding": null,
            "grid_auto_rows": null,
            "grid_gap": null,
            "max_width": null,
            "order": null,
            "_view_module_version": "1.2.0",
            "grid_template_areas": null,
            "object_position": null,
            "object_fit": null,
            "grid_auto_columns": null,
            "margin": null,
            "display": null,
            "left": null
          }
        },
        "ea26b74ac32348eaa1b3de1c938f67e4": {
          "model_module": "@jupyter-widgets/controls",
          "model_name": "FloatProgressModel",
          "state": {
            "_view_name": "ProgressView",
            "style": "IPY_MODEL_83c8bc23fb454fcdb605c4bdb3289251",
            "_dom_classes": [],
            "description": "Downloading: 100%",
            "_model_name": "FloatProgressModel",
            "bar_style": "success",
            "max": 3247202234,
            "_view_module": "@jupyter-widgets/controls",
            "_model_module_version": "1.5.0",
            "value": 3247202234,
            "_view_count": null,
            "_view_module_version": "1.5.0",
            "orientation": "horizontal",
            "min": 0,
            "description_tooltip": null,
            "_model_module": "@jupyter-widgets/controls",
            "layout": "IPY_MODEL_32f7e156691747fb859d7f6c6051f306"
          }
        },
        "3686b64b7f0741d7ad3a08b9535acc91": {
          "model_module": "@jupyter-widgets/controls",
          "model_name": "HTMLModel",
          "state": {
            "_view_name": "HTMLView",
            "style": "IPY_MODEL_bb96b145c8d2455fab80bbdd59fbee39",
            "_dom_classes": [],
            "description": "",
            "_model_name": "HTMLModel",
            "placeholder": "​",
            "_view_module": "@jupyter-widgets/controls",
            "_model_module_version": "1.5.0",
            "value": " 3.25G/3.25G [01:11&lt;00:00, 45.4MB/s]",
            "_view_count": null,
            "_view_module_version": "1.5.0",
            "description_tooltip": null,
            "_model_module": "@jupyter-widgets/controls",
            "layout": "IPY_MODEL_63f2c1b8610b42abb2ff3fd5aba8591a"
          }
        },
        "83c8bc23fb454fcdb605c4bdb3289251": {
          "model_module": "@jupyter-widgets/controls",
          "model_name": "ProgressStyleModel",
          "state": {
            "_view_name": "StyleView",
            "_model_name": "ProgressStyleModel",
            "description_width": "initial",
            "_view_module": "@jupyter-widgets/base",
            "_model_module_version": "1.5.0",
            "_view_count": null,
            "_view_module_version": "1.2.0",
            "bar_color": null,
            "_model_module": "@jupyter-widgets/controls"
          }
        },
        "32f7e156691747fb859d7f6c6051f306": {
          "model_module": "@jupyter-widgets/base",
          "model_name": "LayoutModel",
          "state": {
            "_view_name": "LayoutView",
            "grid_template_rows": null,
            "right": null,
            "justify_content": null,
            "_view_module": "@jupyter-widgets/base",
            "overflow": null,
            "_model_module_version": "1.2.0",
            "_view_count": null,
            "flex_flow": null,
            "width": null,
            "min_width": null,
            "border": null,
            "align_items": null,
            "bottom": null,
            "_model_module": "@jupyter-widgets/base",
            "top": null,
            "grid_column": null,
            "overflow_y": null,
            "overflow_x": null,
            "grid_auto_flow": null,
            "grid_area": null,
            "grid_template_columns": null,
            "flex": null,
            "_model_name": "LayoutModel",
            "justify_items": null,
            "grid_row": null,
            "max_height": null,
            "align_content": null,
            "visibility": null,
            "align_self": null,
            "height": null,
            "min_height": null,
            "padding": null,
            "grid_auto_rows": null,
            "grid_gap": null,
            "max_width": null,
            "order": null,
            "_view_module_version": "1.2.0",
            "grid_template_areas": null,
            "object_position": null,
            "object_fit": null,
            "grid_auto_columns": null,
            "margin": null,
            "display": null,
            "left": null
          }
        },
        "bb96b145c8d2455fab80bbdd59fbee39": {
          "model_module": "@jupyter-widgets/controls",
          "model_name": "DescriptionStyleModel",
          "state": {
            "_view_name": "StyleView",
            "_model_name": "DescriptionStyleModel",
            "description_width": "",
            "_view_module": "@jupyter-widgets/base",
            "_model_module_version": "1.5.0",
            "_view_count": null,
            "_view_module_version": "1.2.0",
            "_model_module": "@jupyter-widgets/controls"
          }
        },
        "63f2c1b8610b42abb2ff3fd5aba8591a": {
          "model_module": "@jupyter-widgets/base",
          "model_name": "LayoutModel",
          "state": {
            "_view_name": "LayoutView",
            "grid_template_rows": null,
            "right": null,
            "justify_content": null,
            "_view_module": "@jupyter-widgets/base",
            "overflow": null,
            "_model_module_version": "1.2.0",
            "_view_count": null,
            "flex_flow": null,
            "width": null,
            "min_width": null,
            "border": null,
            "align_items": null,
            "bottom": null,
            "_model_module": "@jupyter-widgets/base",
            "top": null,
            "grid_column": null,
            "overflow_y": null,
            "overflow_x": null,
            "grid_auto_flow": null,
            "grid_area": null,
            "grid_template_columns": null,
            "flex": null,
            "_model_name": "LayoutModel",
            "justify_items": null,
            "grid_row": null,
            "max_height": null,
            "align_content": null,
            "visibility": null,
            "align_self": null,
            "height": null,
            "min_height": null,
            "padding": null,
            "grid_auto_rows": null,
            "grid_gap": null,
            "max_width": null,
            "order": null,
            "_view_module_version": "1.2.0",
            "grid_template_areas": null,
            "object_position": null,
            "object_fit": null,
            "grid_auto_columns": null,
            "margin": null,
            "display": null,
            "left": null
          }
        }
      }
    }
  },
  "cells": [
    {
      "cell_type": "markdown",
      "metadata": {
        "id": "view-in-github",
        "colab_type": "text"
      },
      "source": [
        "<a href=\"https://colab.research.google.com/github/iam-abbas/Transformer-Horror/blob/main/Story_Generator.ipynb\" target=\"_parent\"><img src=\"https://colab.research.google.com/assets/colab-badge.svg\" alt=\"Open In Colab\"/></a>"
      ]
    },
    {
      "cell_type": "markdown",
      "metadata": {
        "id": "4OyDTdMzK67H"
      },
      "source": [
        "# Horror Story Generator\r\n",
        "\r\n",
        "##### ***Using Pytorch, Transformers and Open-AI's GPT-2***"
      ]
    },
    {
      "cell_type": "markdown",
      "metadata": {
        "id": "YMcdIBRILFF9"
      },
      "source": [
        "*Installing Transformers*"
      ]
    },
    {
      "cell_type": "code",
      "metadata": {
        "id": "SaWQKXB87hjB"
      },
      "source": [
        "!pip install -q transformers"
      ],
      "execution_count": 1,
      "outputs": []
    },
    {
      "cell_type": "markdown",
      "metadata": {
        "id": "ERpCH2NXLHfe"
      },
      "source": [
        "*importing all the required modules*"
      ]
    },
    {
      "cell_type": "code",
      "metadata": {
        "id": "NdJ0XNcx-vLg"
      },
      "source": [
        "import torch\r\n",
        "import numpy as np\r\n",
        "from transformers import GPT2Tokenizer, GPT2LMHeadModel\r\n",
        "from transformers import AdamW, get_linear_schedule_with_warmup\r\n",
        "from torch.utils.data import Dataset\r\n",
        "from torch.utils.data import Dataset, DataLoader\r\n",
        "import os"
      ],
      "execution_count": 2,
      "outputs": []
    },
    {
      "cell_type": "markdown",
      "metadata": {
        "id": "oBxwMi-vKwmr"
      },
      "source": [
        "#### **Choosing a Model**\r\n",
        "##### Transformes has 4 models\r\n",
        "![Image by Jay Alammar from post The Illustrated GPT-2](https://i.imgur.com/yrIxPVX.png)\r\n",
        "\r\n",
        "**Model Names**:\r\n",
        "- `gpt2-small` (124M Model)\r\n",
        "- `gpt2-medium` (345M Model)\r\n",
        "- `gpt2-large` (774M Model)\r\n",
        "- `gpt2-xl` (1558M Model)\r\n",
        "\r\n",
        "*In our case I focused on making a lighter model so I used medium*"
      ]
    },
    {
      "cell_type": "code",
      "metadata": {
        "colab": {
          "base_uri": "https://localhost:8080/",
          "height": 213,
          "referenced_widgets": [
            "27c2c172e9774fef8b6ba75685a2e001",
            "17604a50d48f4c2c811532d0eb8af11e",
            "49da5a0e5fe64f6e8d1cc04089a9c0c3",
            "490514ae70fd4c49af77efc7340d1f56",
            "8a5b326b1d024831ae24499c2914f1f2",
            "ee05262ea1de45b4b32c9d070ff1dcd6",
            "181e8946aee549c79660c6f4ea8ba81e",
            "c990cdc3632542b78059be64cf51ccba",
            "ee97a6d68b3a477f9d4df1170aeb3b9e",
            "e74ef2ee5ef54b89ba413bcb18dd42a4",
            "906b4f764ba243b983f0f685c2d750b0",
            "694b7bfdb8fa457db86b7e0470c2e98b",
            "4164d009fd48459f82690477b0a89f3c",
            "6422af5e22894bfbb387b2911cd27c74",
            "b1e3ed4cdb7c4a9ba6863874a8fc4c07",
            "59e5fe6664554160a3fc1994446fdd5e",
            "59999b8223ca476fb3a3934f70a7d7fe",
            "a0370f8b9ba84f9c8e9b3a5ee4224006",
            "762d2bc732fc402fb05cb3bb0c76cf30",
            "8c8ae804569b45af847c3345497beeff",
            "c343eef11c6c4e988c4929f90db485d6",
            "cd3eb6c0290945a98529a5dff0d2ff1d",
            "fcc6f711a842453f9891fdcdfd9ac971",
            "73dd89afc2584b1cacf84ccc4c1156f1",
            "0ac1715f46734731955b263041abc69a",
            "203127b753fb4ad99ecd8ac663703c32",
            "ea26b74ac32348eaa1b3de1c938f67e4",
            "3686b64b7f0741d7ad3a08b9535acc91",
            "83c8bc23fb454fcdb605c4bdb3289251",
            "32f7e156691747fb859d7f6c6051f306",
            "bb96b145c8d2455fab80bbdd59fbee39",
            "63f2c1b8610b42abb2ff3fd5aba8591a"
          ]
        },
        "id": "1E0XsjVCJML8",
        "outputId": "1781bbb0-4266-4ff9-ae9c-d5ad3b48f37c"
      },
      "source": [
        "device = 'cpu'\r\n",
        "if torch.cuda.is_available():\r\n",
        "    device = 'cuda'\r\n",
        "    \r\n",
        "tokenizer = GPT2Tokenizer.from_pretrained('gpt2-large')\r\n",
        "model = GPT2LMHeadModel.from_pretrained('gpt2-large')\r\n",
        "model = model.to(device)"
      ],
      "execution_count": 3,
      "outputs": [
        {
          "output_type": "display_data",
          "data": {
            "application/vnd.jupyter.widget-view+json": {
              "model_id": "27c2c172e9774fef8b6ba75685a2e001",
              "version_minor": 0,
              "version_major": 2
            },
            "text/plain": [
              "HBox(children=(FloatProgress(value=0.0, description='Downloading', max=1042301.0, style=ProgressStyle(descript…"
            ]
          },
          "metadata": {
            "tags": []
          }
        },
        {
          "output_type": "stream",
          "text": [
            "\n"
          ],
          "name": "stdout"
        },
        {
          "output_type": "display_data",
          "data": {
            "application/vnd.jupyter.widget-view+json": {
              "model_id": "ee97a6d68b3a477f9d4df1170aeb3b9e",
              "version_minor": 0,
              "version_major": 2
            },
            "text/plain": [
              "HBox(children=(FloatProgress(value=0.0, description='Downloading', max=456318.0, style=ProgressStyle(descripti…"
            ]
          },
          "metadata": {
            "tags": []
          }
        },
        {
          "output_type": "stream",
          "text": [
            "\n"
          ],
          "name": "stdout"
        },
        {
          "output_type": "display_data",
          "data": {
            "application/vnd.jupyter.widget-view+json": {
              "model_id": "59999b8223ca476fb3a3934f70a7d7fe",
              "version_minor": 0,
              "version_major": 2
            },
            "text/plain": [
              "HBox(children=(FloatProgress(value=0.0, description='Downloading', max=764.0, style=ProgressStyle(description_…"
            ]
          },
          "metadata": {
            "tags": []
          }
        },
        {
          "output_type": "stream",
          "text": [
            "\n"
          ],
          "name": "stdout"
        },
        {
          "output_type": "display_data",
          "data": {
            "application/vnd.jupyter.widget-view+json": {
              "model_id": "0ac1715f46734731955b263041abc69a",
              "version_minor": 0,
              "version_major": 2
            },
            "text/plain": [
              "HBox(children=(FloatProgress(value=0.0, description='Downloading', max=3247202234.0, style=ProgressStyle(descr…"
            ]
          },
          "metadata": {
            "tags": []
          }
        },
        {
          "output_type": "stream",
          "text": [
            "\n"
          ],
          "name": "stdout"
        }
      ]
    },
    {
      "cell_type": "code",
      "metadata": {
        "colab": {
          "base_uri": "https://localhost:8080/",
          "height": 35
        },
        "id": "lNqCWbKSSi2_",
        "outputId": "c2d6458d-f942-44cc-bea2-728e026f7b1a"
      },
      "source": [
        "device"
      ],
      "execution_count": 4,
      "outputs": [
        {
          "output_type": "execute_result",
          "data": {
            "application/vnd.google.colaboratory.intrinsic+json": {
              "type": "string"
            },
            "text/plain": [
              "'cuda'"
            ]
          },
          "metadata": {
            "tags": []
          },
          "execution_count": 4
        }
      ]
    },
    {
      "cell_type": "markdown",
      "metadata": {
        "id": "38XlwazELKj1"
      },
      "source": [
        "`choose_from_top`:\r\n",
        "- Function to first select topN tokens from the probability list and then based on the selected N word distribution\r\n",
        "\r\n",
        "`generate_text`:\r\n",
        "- At each prediction step, GPT2 model needs to know all of the previous sequence elements to predict the next one. Below is a function that will tokenize the starting input text, and then in a loop, one new token is predicted at each step and is added to the sequence, which will be fed into the model in the next step. In the end, the token list is decoded back into a text."
      ]
    },
    {
      "cell_type": "code",
      "metadata": {
        "id": "MBZVzPlvJPQC"
      },
      "source": [
        "def choose_from_top(probs, n=10):\r\n",
        "    ind = np.argpartition(probs, -n)[-n:]\r\n",
        "    top_prob = probs[ind]\r\n",
        "    top_prob = top_prob / np.sum(top_prob)\r\n",
        "    choice = np.random.choice(n, 1, p = top_prob)\r\n",
        "    token_id = ind[choice][0]\r\n",
        "    return int(token_id)\r\n",
        "\r\n",
        "def generate_text(input_str, text_len = 100):\r\n",
        "    cur_ids = torch.tensor(tokenizer.encode(input_str)).unsqueeze(0).long().to(device)\r\n",
        "    model.eval()\r\n",
        "    with torch.no_grad():\r\n",
        "        for i in range(text_len):\r\n",
        "            outputs = model(cur_ids, labels=cur_ids)\r\n",
        "            loss, logits = outputs[:2]\r\n",
        "            softmax_logits = torch.softmax(logits[0,-1], dim=0) \r\n",
        "            next_token_id = choose_from_top(softmax_logits.to('cpu').numpy(), n=10)\r\n",
        "            cur_ids = torch.cat([cur_ids, torch.ones((1,1)).long().to(device) * next_token_id], dim = 1) # Add the last word\r\n",
        "        output_list = list(cur_ids.squeeze().to('cpu').numpy())\r\n",
        "        output_text = tokenizer.decode(output_list)\r\n",
        "        print(output_text)"
      ],
      "execution_count": 5,
      "outputs": []
    },
    {
      "cell_type": "markdown",
      "metadata": {
        "id": "I6ISg0w4LN9v"
      },
      "source": [
        "### Testing the loaded model"
      ]
    },
    {
      "cell_type": "code",
      "metadata": {
        "colab": {
          "base_uri": "https://localhost:8080/"
        },
        "id": "a46XGRvyJRAa",
        "outputId": "6ce9e2f0-5f73-4b97-c1b2-d4eaeab6b0d1"
      },
      "source": [
        "generate_text(\"Once opon a time\")"
      ],
      "execution_count": 6,
      "outputs": [
        {
          "output_type": "stream",
          "text": [
            "Once opon a time, they would be able to take advantage of the situation. They would then be able to get in front of the enemy team as well.\n",
            "\n",
            "\"If they are able to gain control of these areas, they would be able to make the enemy team lose a lot of time,\" says Zeng. \"They would be able to make the entire game go faster.\"\n",
            "\n",
            "But what if the enemy team already has a lead? What happens then? In that case, the team would have to\n"
          ],
          "name": "stdout"
        }
      ]
    },
    {
      "cell_type": "markdown",
      "metadata": {
        "id": "I3lqVIZ0LRBD"
      },
      "source": [
        "*That was interesting isn't it?*\r\n",
        "\r\n",
        "## **Fine-tuning GPT-2 on Stories Dataset from Reddit**\r\n"
      ]
    },
    {
      "cell_type": "code",
      "metadata": {
        "id": "_SQnxwtMJXDY"
      },
      "source": [
        "class Text_Corpus(Dataset):\r\n",
        "    def __init__(self, dataset_path = ''):\r\n",
        "        super().__init__()\r\n",
        "        corpus_path = os.path.join(dataset_path, 'stories.txt')\r\n",
        "        self.token_list = []\r\n",
        "        self.end_of_text_token = \"<|endoftext|>\"\r\n",
        "\r\n",
        "        with open(corpus_path) as f:\r\n",
        "            data = f.read()\r\n",
        "            self.token_list = data.split(\"<|endoftext|>\")\r\n",
        "\r\n",
        "        for i in range(len(self.token_list)):\r\n",
        "          self.token_list[i] = self.end_of_text_token+self.token_list[i]+self.end_of_text_token\r\n",
        "\r\n",
        "    def __len__(self):\r\n",
        "        return len(self.token_list)\r\n",
        "\r\n",
        "    def __getitem__(self, item):\r\n",
        "        return self.token_list[item]"
      ],
      "execution_count": 7,
      "outputs": []
    },
    {
      "cell_type": "markdown",
      "metadata": {
        "id": "NZouweihLbsO"
      },
      "source": [
        "*Loading the dataset from `Text_Corpus`*"
      ]
    },
    {
      "cell_type": "code",
      "metadata": {
        "colab": {
          "base_uri": "https://localhost:8080/"
        },
        "id": "sRr_AKSxJfT2",
        "outputId": "9c95ae71-3855-435f-8c2f-338e96f9a948"
      },
      "source": [
        "dataset = Text_Corpus()\r\n",
        "print(\"Number of Tokens Found:\", len(dataset))\r\n",
        "data_loader = DataLoader(dataset, batch_size=1, shuffle=True)"
      ],
      "execution_count": 8,
      "outputs": [
        {
          "output_type": "stream",
          "text": [
            "Number of Tokens Found: 713\n"
          ],
          "name": "stdout"
        }
      ]
    },
    {
      "cell_type": "markdown",
      "metadata": {
        "id": "9AP05pG4LeEf"
      },
      "source": [
        "*Assigning Parameterts (EPOCH, Batch Size, etc)*"
      ]
    },
    {
      "cell_type": "code",
      "metadata": {
        "id": "-8VmMrCGVqDt"
      },
      "source": [
        "import gc\r\n",
        "gc.collect()\r\n",
        "torch.cuda.empty_cache()"
      ],
      "execution_count": 9,
      "outputs": []
    },
    {
      "cell_type": "code",
      "metadata": {
        "id": "gZDVUMNEJgIo"
      },
      "source": [
        "BATCH_SIZE = 1\r\n",
        "EPOCHS = 20\r\n",
        "LEARNING_RATE = 1e-5\r\n",
        "WARMUP_STEPS = 10000\r\n",
        "MAX_SEQ_LEN = 550"
      ],
      "execution_count": 10,
      "outputs": []
    },
    {
      "cell_type": "markdown",
      "metadata": {
        "id": "xXyUBf0SLgqi"
      },
      "source": [
        "### *Training the Model for 20 Epochs*"
      ]
    },
    {
      "cell_type": "code",
      "metadata": {
        "colab": {
          "base_uri": "https://localhost:8080/"
        },
        "id": "OTdweFRAJjIf",
        "outputId": "40b54b03-3ed0-4419-f7f9-7fd1c140dec3"
      },
      "source": [
        "model = model.to(device)\r\n",
        "model.train()\r\n",
        "optimizer = AdamW(model.parameters(), lr=LEARNING_RATE)\r\n",
        "scheduler = get_linear_schedule_with_warmup(optimizer, num_warmup_steps=WARMUP_STEPS, num_training_steps = -1)\r\n",
        "text_count = 0\r\n",
        "sum_loss = 0.0\r\n",
        "batch_count = 0\r\n",
        "\r\n",
        "tmp_text_tens = None\r\n",
        "\r\n",
        "for epoch in range(EPOCHS):\r\n",
        "\r\n",
        "    print(f\"EPOCH {epoch} started \" + '=' * 30)\r\n",
        "    for idx,text in enumerate(data_loader):\r\n",
        "            \r\n",
        "        text_tens = torch.tensor(tokenizer.encode(text[0])).unsqueeze(0).to(device)\r\n",
        "\r\n",
        "        if text_tens.size()[1] > MAX_SEQ_LEN:\r\n",
        "            continue\r\n",
        "            print(\"Skipping\")\r\n",
        "        if not torch.is_tensor(tmp_text_tens):\r\n",
        "            tmp_text_tens = text_tens\r\n",
        "            print(\"Skipping\")\r\n",
        "            continue\r\n",
        "        else:\r\n",
        "            if tmp_text_tens.size()[1] + text_tens.size()[1] > MAX_SEQ_LEN:\r\n",
        "                work_text_tens = tmp_text_tens\r\n",
        "                tmp_text_tens = text_tens\r\n",
        "            else:\r\n",
        "                tmp_text_tens = torch.cat([tmp_text_tens, text_tens[:,1:]], dim=1)\r\n",
        "                print(\"Skipping\")               \r\n",
        "                continue\r\n",
        "                          \r\n",
        "        outputs = model(work_text_tens, labels=work_text_tens)\r\n",
        "        loss, logits = outputs[:2]                        \r\n",
        "        loss.backward()\r\n",
        "        sum_loss = sum_loss + loss.detach().data                    \r\n",
        "        text_count = text_count + 1\r\n",
        "\r\n",
        "        if text_count == BATCH_SIZE:\r\n",
        "            text_count = 0    \r\n",
        "            batch_count += 1\r\n",
        "            optimizer.step()\r\n",
        "            scheduler.step() \r\n",
        "            optimizer.zero_grad()\r\n",
        "            model.zero_grad()\r\n",
        "            \r\n",
        "        if batch_count == 1000:\r\n",
        "            print(f\"sum loss {sum_loss}\")\r\n",
        "            batch_count = 0\r\n",
        "            sum_loss = 0.0"
      ],
      "execution_count": 11,
      "outputs": [
        {
          "output_type": "stream",
          "text": [
            "Token indices sequence length is longer than the specified maximum sequence length for this model (4350 > 1024). Running this sequence through the model will result in indexing errors\n"
          ],
          "name": "stderr"
        },
        {
          "output_type": "stream",
          "text": [
            "EPOCH 0 started ==============================\n",
            "Skipping\n",
            "EPOCH 1 started ==============================\n",
            "Skipping\n",
            "EPOCH 2 started ==============================\n",
            "Skipping\n",
            "EPOCH 3 started ==============================\n",
            "Skipping\n",
            "EPOCH 4 started ==============================\n",
            "Skipping\n",
            "EPOCH 5 started ==============================\n",
            "Skipping\n",
            "EPOCH 6 started ==============================\n",
            "Skipping\n",
            "EPOCH 7 started ==============================\n",
            "Skipping\n",
            "EPOCH 8 started ==============================\n",
            "Skipping\n",
            "EPOCH 9 started ==============================\n",
            "Skipping\n",
            "EPOCH 10 started ==============================\n",
            "Skipping\n",
            "EPOCH 11 started ==============================\n",
            "Skipping\n",
            "EPOCH 12 started ==============================\n",
            "Skipping\n",
            "EPOCH 13 started ==============================\n",
            "Skipping\n",
            "EPOCH 14 started ==============================\n",
            "Skipping\n",
            "EPOCH 15 started ==============================\n",
            "Skipping\n",
            "EPOCH 16 started ==============================\n",
            "Skipping\n",
            "EPOCH 17 started ==============================\n",
            "Skipping\n",
            "EPOCH 18 started ==============================\n",
            "Skipping\n",
            "EPOCH 19 started ==============================\n",
            "Skipping\n"
          ],
          "name": "stdout"
        }
      ]
    },
    {
      "cell_type": "markdown",
      "metadata": {
        "id": "L1iqgIoFLjhh"
      },
      "source": [
        "### **Generating 5 Samples**"
      ]
    },
    {
      "cell_type": "code",
      "metadata": {
        "colab": {
          "base_uri": "https://localhost:8080/"
        },
        "id": "au-ky-gQJoVM",
        "outputId": "40f25233-1d3f-453d-86eb-e7a1fb07479f"
      },
      "source": [
        "model.eval()\r\n",
        "with torch.no_grad():\r\n",
        "    \r\n",
        "    for text_idx in range(5):\r\n",
        "\r\n",
        "        cur_ids = torch.tensor(tokenizer.encode(\"The night she died she said to him\")).unsqueeze(0).to(device)\r\n",
        "        \r\n",
        "        for i in range(250):\r\n",
        "            outputs = model(cur_ids, labels=cur_ids)\r\n",
        "            loss, logits = outputs[:2]\r\n",
        "            softmax_logits = torch.softmax(logits[0,-1], dim=0)\r\n",
        "            if i < 2:\r\n",
        "                n = 15\r\n",
        "            else:\r\n",
        "                n = 3\r\n",
        "            next_token_id = choose_from_top(softmax_logits.to('cpu').numpy(), n=n)\r\n",
        "            cur_ids = torch.cat([cur_ids, torch.ones((1,1)).long().to(device) * next_token_id], dim = 1)\r\n",
        "            if next_token_id in tokenizer.encode('<|endoftext|>'):\r\n",
        "                break\r\n",
        "            \r\n",
        "        output_list = list(cur_ids.squeeze().to('cpu').numpy())\r\n",
        "        output_text = tokenizer.decode(output_list)\r\n",
        "        print(f\"SAMPLE {text_idx}: {output_text.capitalize()} \\n\")"
      ],
      "execution_count": 12,
      "outputs": [
        {
          "output_type": "stream",
          "text": [
            "SAMPLE 0: The night she died she said to him, \"i love you.\"\n",
            "\n",
            "\"you're not the first one to die in my bed,\" she said.\n",
            "\n",
            "\"i'm not the first one to die,\" he said.\n",
            "\n",
            "she said, \"i know you're not the last one to die.\"\n",
            "\n",
            "\"i know i'm not the last one to die,\" he said.\n",
            "\n",
            "\"i know you're not the last one to die,\" she said.\n",
            "\n",
            "\"i'm going to be with you forever,\" he said.\n",
            "\n",
            "\"i know you're going to be with me forever,\" she said.\n",
            "\n",
            "\"i know you're going to be with me forever,\" he said.\n",
            "\n",
            "he told her he loved her. she said, \"i love you.\"\n",
            "\n",
            "\"i love you,\" he said.\n",
            "\n",
            "he said, \"you're my angel,\" she said.\n",
            "\n",
            "\"i'm going to be with you forever,\" he said. \"you're my angel.\"\n",
            "\n",
            "he told her she was beautiful and he loved her. she said, \"i love you.\"\n",
            "\n",
            "she said, \"i love you.\"\n",
            "\n",
            "\"i love you,\" he said.\n",
            "\n",
            "he said, \"i know \n",
            "\n",
            "SAMPLE 1: The night she died she said to him, 'don't be sad. i'll be happy soon.'\n",
            "\n",
            "\"i don't think she was in the right place at the right time.\"<|endoftext|> \n",
            "\n",
            "SAMPLE 2: The night she died she said to him: \"you're not my dad.\"\n",
            "\n",
            "the man, who was not named, said he was in the room when the girl's body was found.\n",
            "\n",
            "he told police: \"the girl was lying in her own blood. she had been stabbed in the back. her eyes had been cut out.\"\n",
            "\n",
            "he said the girl's body was covered in blood.\n",
            "\n",
            "he told police: \"i saw the body lying in the bed and i saw blood coming out of it. i saw the body lying in a pool of blood.\"\n",
            "\n",
            "the man told officers: \"i saw the girl lying on the bed with her hands up and she was moaning. i saw the girl's face. i saw the blood coming out of her head and i saw her face.\"\n",
            "\n",
            "he said he then went to check if the girl's mother had been in the room when the girl died.\n",
            "\n",
            "he told the officer: \"the girl's mother came into the room, she was crying and said 'i can't believe it'.\n",
            "\n",
            "\"she was saying she was going to call the police.\"\n",
            "\n",
            "the man said: \"she was screaming and she had a knife in her hand.\"\n",
            "\n",
            "police were called at \n",
            "\n",
            "SAMPLE 3: The night she died she said to him, \"i'm sorry. i'm not a good person.\" and he replied, \"i know. i'm sorry. i'm not a good person.\"\n",
            "\n",
            "she died in the same hospital room.\n",
            "\n",
            "\"i don't know if i'm going to get over this, because it's so hard to live with it. but i know i'm not a good person,\" she said.\n",
            "\n",
            "she was a good person.\n",
            "\n",
            "she was a good person.\n",
            "\n",
            "she was a bad person.\n",
            "\n",
            "\"i'm sorry. i'm not a good person. i'm a bad person,\" she told him.\n",
            "\n",
            "she died in a hospital bed.\n",
            "\n",
            "\"she was a good person,\" he said.\n",
            "\n",
            "\"i'm sorry, i'm not a good person.\"\n",
            "\n",
            "he said, \"i'm sorry.\"\n",
            "\n",
            "he said, \"i'm sorry, i'm not a good person.\"\n",
            "\n",
            "he was sorry.\n",
            "\n",
            "\"i'm sorry,\" he said.\n",
            "\n",
            "he was sorry. he said, \"i'm sorry, i'm not a good person.\"\n",
            "\n",
            "she died in a hospital bed.\n",
            "\n",
            "\"i'm sorry. i'm a good person,\" \n",
            "\n",
            "SAMPLE 4: The night she died she said to him \"my husband, i want to be with you forever. please don't leave me.\"\n",
            "\n",
            "the couple married on june 27, 2013.\n",
            "\n",
            "the family is now asking for privacy as they deal with the tragedy.\n",
            "\n",
            "\"we are devastated by the loss of our beautiful daughter, daughter-in-law and granddaughter,\" the family said in a statement. \"our hearts go out to the family of the victim and to the entire st. john the baptist church community.\"\n",
            "\n",
            "\"we are asking that you respect our privacy during this difficult time.\"\n",
            "\n",
            "anyone who may have information about this case is asked to call the st. john the baptist police department at (973) 763-7000.<|endoftext|> \n",
            "\n"
          ],
          "name": "stdout"
        }
      ]
    },
    {
      "cell_type": "code",
      "metadata": {
        "colab": {
          "base_uri": "https://localhost:8080/"
        },
        "id": "O1JMtDoZNkF6",
        "outputId": "496d933e-eeda-4f08-cf5a-fdb018907613"
      },
      "source": [
        "generate_text(\"It was the scariest face I have ever seen\", 500)"
      ],
      "execution_count": 19,
      "outputs": [
        {
          "output_type": "stream",
          "text": [
            "It was the scariest face I have ever seen,\" he said.\n",
            "\n",
            "Mr. Giffords was shot in the neck and left for dead by her assailant, Chris Cox, who later killed himself. The gunman also killed his wife.\n",
            "\n",
            "Mr. Giffords, 52 years old, said he was not sure he wanted to talk about the case at a news conference, but he would. \"I have been trying for a long time to tell the truth,\" he said.\n",
            "\n",
            "He said he had never been afraid. He was not a political activist, he said, but had always had his eyes open and was trying to do what he thought was right.\n",
            "\n",
            "\"If it's a political statement, it's because I'm concerned about what I believe is going on around me,\" he said.\n",
            "\n",
            "Mr. Giffords, who was born in Tucson and raised in Phoenix, said that he had voted for President Bush and was planning to do so again on Tuesday.\n",
            "\n",
            "\"We need to stop the madness, but if the madness has taken place, we need to make sure that we are not going to continue down this path,\" he said.\n",
            "\n",
            "Mr. Giffords said he had been in touch with a group of about 30 members of Congress, including the Senate's Democratic leader, Joseph I. Lieberman of Connecticut.\n",
            "\n",
            "The group was holding a town hall meeting in Phoenix, he said, and members had asked him how he felt about Mr. McCain.\n",
            "\n",
            "\"I have not been asked that question yet,\" he said. \"That's a question I've got. I'll answer it when the time comes.\"<|endoftext|>The U.S. government is now investigating a mysterious \"Black Ice\" ice formation found in Antarctica, which some people believe could be caused by a mysterious \"black hole.\"\n",
            "\n",
            "According to NBC News (via Reuters), \"the discovery of the mysterious 'Black Ice' was a surprise and drew attention to the mysterious 'black hole' in the Southern Hemisphere. Scientists said it might be due to the existence of a large object in the 'black hole' – but scientists also said they had no evidence so far for such a 'black hole,'\" the outlet reported, adding:\n",
            "\n",
            "A new NASA study has confirmed that a mysterious ice formation in the Antarctic is a result of a huge 'black hole' - but scientists also said they had no evidence so far for such a 'black hole' - and some said it may simply be the result of\n"
          ],
          "name": "stdout"
        }
      ]
    },
    {
      "cell_type": "code",
      "metadata": {
        "id": "N0Wi-RzsdL5y"
      },
      "source": [
        ""
      ],
      "execution_count": 13,
      "outputs": []
    }
  ]
}