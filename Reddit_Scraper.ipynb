{
  "nbformat": 4,
  "nbformat_minor": 0,
  "metadata": {
    "colab": {
      "name": "Reddit Scraper.ipynb",
      "provenance": [],
      "authorship_tag": "ABX9TyOFJ8eoqP4boblAkS058siP",
      "include_colab_link": true
    },
    "kernelspec": {
      "name": "python3",
      "display_name": "Python 3"
    }
  },
  "cells": [
    {
      "cell_type": "markdown",
      "metadata": {
        "id": "view-in-github",
        "colab_type": "text"
      },
      "source": [
        "<a href=\"https://colab.research.google.com/github/iam-abbas/Transformer-Horror/blob/main/Reddit_Scraper.ipynb\" target=\"_parent\"><img src=\"https://colab.research.google.com/assets/colab-badge.svg\" alt=\"Open In Colab\"/></a>"
      ]
    },
    {
      "cell_type": "code",
      "metadata": {
        "id": "PEtukf6y8MHZ"
      },
      "source": [
        "!pip install -q praw"
      ],
      "execution_count": 1,
      "outputs": []
    },
    {
      "cell_type": "code",
      "metadata": {
        "id": "vaaWPni-8opS"
      },
      "source": [
        "import praw\r\n",
        "import json\r\n",
        "import re "
      ],
      "execution_count": 2,
      "outputs": []
    },
    {
      "cell_type": "code",
      "metadata": {
        "id": "i2ROeXWS_Yns"
      },
      "source": [
        "with open('credentials.json') as file:\r\n",
        "  creds = json.loads(file.read())"
      ],
      "execution_count": 3,
      "outputs": []
    },
    {
      "cell_type": "code",
      "metadata": {
        "id": "c6qz5pZK-5dn"
      },
      "source": [
        "scraper = praw.Reddit(client_id=creds['client_id'], client_secret=creds['client_secret'], user_agent=creds['user_agent'])"
      ],
      "execution_count": 4,
      "outputs": []
    },
    {
      "cell_type": "code",
      "metadata": {
        "id": "TlgipEFmAbpU"
      },
      "source": [
        "horror_stories = scraper.subreddit('nosleep').hot(limit=10000)"
      ],
      "execution_count": 5,
      "outputs": []
    },
    {
      "cell_type": "code",
      "metadata": {
        "colab": {
          "base_uri": "https://localhost:8080/"
        },
        "id": "QoxQhI-rAdX8",
        "outputId": "ea6e27e7-52a6-4afd-dfda-ee88d0b2adc6"
      },
      "source": [
        "with open('stories.txt', \"w+\") as story_file:\r\n",
        "  for story in horror_stories:\r\n",
        "    story = re.sub(\"\\[[^)]*\\)\", \"\", story.selftext)\r\n",
        "    if story:\r\n",
        "      story_file.writelines([story.replace(\"\\n\", \" \")+\"<|endoftext|>\"])\r\n",
        "      print(\".\", end=\"\")\r\n",
        "\r\n",
        "# Scraping Complete"
      ],
      "execution_count": 6,
      "outputs": [
        {
          "output_type": "stream",
          "text": [
            "........................................................................................................................................................................................................................................................................................................................................................................................................................................................................................................................................................................................................................................................................................................................................"
          ],
          "name": "stdout"
        }
      ]
    }
  ]
}